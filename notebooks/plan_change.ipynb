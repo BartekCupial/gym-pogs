{
 "cells": [
  {
   "cell_type": "code",
   "execution_count": 1,
   "id": "6bb4bfc9",
   "metadata": {},
   "outputs": [],
   "source": [
    "import gymnasium as gym\n",
    "import gym_pogs\n",
    "import imageio\n",
    "from PIL import Image\n",
    "\n",
    "from gym_pogs.agents import MemorySymbolicPOGSAgent"
   ]
  },
  {
   "cell_type": "code",
   "execution_count": null,
   "id": "1c78de96",
   "metadata": {},
   "outputs": [],
   "source": [
    "k_nearest = 3\n",
    "env = gym.make(\"HardPOGS-v0\", num_nodes=15, k_nearest=k_nearest, min_backtracks=1, max_steps=20, render_mode=\"human\")\n",
    "agent = MemorySymbolicPOGSAgent(k_nearest=k_nearest)"
   ]
  },
  {
   "cell_type": "code",
   "execution_count": 3,
   "id": "897bdcb4",
   "metadata": {},
   "outputs": [
    {
     "name": "stderr",
     "output_type": "stream",
     "text": [
      "/home/bartek/miniconda3/envs/pogs/lib/python3.10/site-packages/gymnasium/utils/passive_env_checker.py:188: UserWarning: \u001b[33mWARN: The obs returned by the `reset()` method is not within the observation space.\u001b[0m\n",
      "  logger.warn(f\"{pre} is not within the observation space.\")\n",
      "/home/bartek/miniconda3/envs/pogs/lib/python3.10/site-packages/gymnasium/utils/passive_env_checker.py:188: UserWarning: \u001b[33mWARN: The obs returned by the `step()` method is not within the observation space.\u001b[0m\n",
      "  logger.warn(f\"{pre} is not within the observation space.\")\n"
     ]
    },
    {
     "name": "stdout",
     "output_type": "stream",
     "text": [
      "{'visited_nodes': 1, 'steps_taken': 0, 'distance_to_target': 4, 'new_dead_ends': {13, 6}, 'episode_extra_stats': {'expert_action': {8, 14}, 'target_discovery': False, 'dead_end_discovery': True, 'expert_accuracy': 1, 'expert_hard_accuracy': 1, 'total_hard_actions': 0}}\n",
      "{'visited_nodes': 2, 'steps_taken': 1, 'distance_to_target': 5, 'new_dead_ends': set(), 'episode_extra_stats': {'expert_action': {3}, 'target_discovery': False, 'dead_end_discovery': False, 'expert_accuracy': 1.0, 'expert_hard_accuracy': 1.0, 'total_hard_actions': 1}}\n",
      "{'visited_nodes': 3, 'steps_taken': 2, 'distance_to_target': 6, 'new_dead_ends': {10, 11}, 'episode_extra_stats': {'expert_action': {1}, 'target_discovery': False, 'dead_end_discovery': True, 'expert_accuracy': 1.0, 'expert_hard_accuracy': 1.0, 'total_hard_actions': 1}}\n",
      "{'visited_nodes': 4, 'steps_taken': 3, 'distance_to_target': 7, 'new_dead_ends': set(), 'episode_extra_stats': {'expert_action': {7}, 'target_discovery': False, 'dead_end_discovery': False, 'expert_accuracy': 1.0, 'expert_hard_accuracy': 1.0, 'total_hard_actions': 2}}\n",
      "{'visited_nodes': 5, 'steps_taken': 4, 'distance_to_target': 8, 'new_dead_ends': {4}, 'episode_extra_stats': {'expert_action': {1}, 'target_discovery': False, 'dead_end_discovery': True, 'expert_accuracy': 1.0, 'expert_hard_accuracy': 1.0, 'total_hard_actions': 2}}\n",
      "{'visited_nodes': 5, 'steps_taken': 5, 'distance_to_target': 7, 'new_dead_ends': set(), 'episode_extra_stats': {'expert_action': {3}, 'target_discovery': False, 'dead_end_discovery': False, 'expert_accuracy': 1.0, 'expert_hard_accuracy': 1.0, 'total_hard_actions': 3}}\n",
      "{'visited_nodes': 5, 'steps_taken': 6, 'distance_to_target': 6, 'new_dead_ends': set(), 'episode_extra_stats': {'expert_action': {8}, 'target_discovery': False, 'dead_end_discovery': False, 'expert_accuracy': 1.0, 'expert_hard_accuracy': 1.0, 'total_hard_actions': 3}}\n",
      "{'visited_nodes': 5, 'steps_taken': 7, 'distance_to_target': 5, 'new_dead_ends': set(), 'episode_extra_stats': {'expert_action': {2}, 'target_discovery': False, 'dead_end_discovery': False, 'expert_accuracy': 1.0, 'expert_hard_accuracy': 1.0, 'total_hard_actions': 3}}\n",
      "{'visited_nodes': 5, 'steps_taken': 8, 'distance_to_target': 4, 'new_dead_ends': set(), 'episode_extra_stats': {'expert_action': {14}, 'target_discovery': False, 'dead_end_discovery': False, 'expert_accuracy': 1.0, 'expert_hard_accuracy': 1.0, 'total_hard_actions': 3}}\n",
      "{'visited_nodes': 6, 'steps_taken': 9, 'distance_to_target': 3, 'new_dead_ends': set(), 'episode_extra_stats': {'expert_action': {12}, 'target_discovery': False, 'dead_end_discovery': False, 'expert_accuracy': 1.0, 'expert_hard_accuracy': 1.0, 'total_hard_actions': 3}}\n",
      "{'visited_nodes': 7, 'steps_taken': 10, 'distance_to_target': 2, 'new_dead_ends': {9}, 'episode_extra_stats': {'expert_action': {5}, 'target_discovery': False, 'dead_end_discovery': True, 'expert_accuracy': 1.0, 'expert_hard_accuracy': 1.0, 'total_hard_actions': 3}}\n",
      "{'visited_nodes': 8, 'steps_taken': 11, 'distance_to_target': 1, 'new_dead_ends': set(), 'episode_extra_stats': {'expert_action': {9}, 'target_discovery': False, 'dead_end_discovery': False, 'expert_accuracy': 1.0, 'expert_hard_accuracy': 1.0, 'total_hard_actions': 4}}\n",
      "{'visited_nodes': 9, 'steps_taken': 12, 'distance_to_target': 0, 'new_dead_ends': set(), 'episode_extra_stats': {'expert_action': set(), 'target_discovery': False, 'dead_end_discovery': False, 'expert_accuracy': 1.0, 'expert_hard_accuracy': 1.0, 'total_hard_actions': 4}}\n",
      "100.0\n"
     ]
    }
   ],
   "source": [
    "seed = 4\n",
    "\n",
    "frames = []  \n",
    "agent.reset()\n",
    "obs, info = env.reset(seed=1)\n",
    "# frames.append(env.render())\n",
    "# Image.fromarray(frames[-1]).save(\"test.png\")\n",
    "print(info)\n",
    "\n",
    "i = 0\n",
    "done = False\n",
    "while not done:\n",
    "    action = agent.act(obs)\n",
    "    obs, reward, term, trun, info = env.step(action)\n",
    "    done = term or trun\n",
    "    # frames.append(env.render())\n",
    "    # Image.fromarray(frames[-1]).save(\"test.png\")\n",
    "    print(info)\n",
    "\n",
    "print(reward)\n",
    "\n",
    "# filename = \"trajectory.mp4\"\n",
    "# imageio.mimsave(filename, frames)\n",
    "\n",
    "env.close()"
   ]
  },
  {
   "cell_type": "code",
   "execution_count": null,
   "id": "4a7b66c5",
   "metadata": {},
   "outputs": [],
   "source": []
  },
  {
   "cell_type": "code",
   "execution_count": null,
   "id": "b60d5f4a",
   "metadata": {},
   "outputs": [],
   "source": []
  }
 ],
 "metadata": {
  "kernelspec": {
   "display_name": "pogs",
   "language": "python",
   "name": "python3"
  },
  "language_info": {
   "codemirror_mode": {
    "name": "ipython",
    "version": 3
   },
   "file_extension": ".py",
   "mimetype": "text/x-python",
   "name": "python",
   "nbconvert_exporter": "python",
   "pygments_lexer": "ipython3",
   "version": "3.10.16"
  }
 },
 "nbformat": 4,
 "nbformat_minor": 5
}
