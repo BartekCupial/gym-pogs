{
 "cells": [
  {
   "cell_type": "code",
   "execution_count": 1,
   "id": "6bb4bfc9",
   "metadata": {},
   "outputs": [],
   "source": [
    "import gymnasium as gym\n",
    "import gym_pogs\n",
    "import imageio\n",
    "from PIL import Image\n",
    "\n",
    "from gym_pogs.agents import MemorySymbolicPOGSAgent\n",
    "from gym_pogs.envs.expert_info import ExpertInfo"
   ]
  },
  {
   "cell_type": "code",
   "execution_count": 2,
   "id": "1c78de96",
   "metadata": {},
   "outputs": [],
   "source": [
    "k_nearest = 3\n",
    "env = gym.make(\"HardPOGS-v0\", num_nodes=20, k_nearest=k_nearest, min_backtracks=1)\n",
    "env = ExpertInfo(env)\n",
    "agent = MemorySymbolicPOGSAgent(k_nearest=k_nearest)"
   ]
  },
  {
   "cell_type": "code",
   "execution_count": null,
   "id": "897bdcb4",
   "metadata": {},
   "outputs": [
    {
     "name": "stdout",
     "output_type": "stream",
     "text": [
      "{'visited_nodes': 1, 'steps_taken': 0, 'distance_to_target': 6, 'expert_action': {10}, 'dead_end_discovery': True, 'target_discovery': False, 'new_dead_ends': {11, 14}}\n",
      "{'visited_nodes': 2, 'steps_taken': 1, 'distance_to_target': 5, 'expert_action': {18, 6}, 'dead_end_discovery': True, 'target_discovery': False, 'new_dead_ends': {12}}\n",
      "{'visited_nodes': 3, 'steps_taken': 2, 'distance_to_target': 6, 'expert_action': {10}, 'dead_end_discovery': True, 'target_discovery': False, 'new_dead_ends': {17}}\n",
      "{'visited_nodes': 3, 'steps_taken': 3, 'distance_to_target': 5, 'expert_action': {18}, 'dead_end_discovery': False, 'target_discovery': False, 'new_dead_ends': set()}\n",
      "{'visited_nodes': 4, 'steps_taken': 4, 'distance_to_target': 4, 'expert_action': {5}, 'dead_end_discovery': False, 'target_discovery': False, 'new_dead_ends': set()}\n",
      "{'visited_nodes': 5, 'steps_taken': 5, 'distance_to_target': 3, 'expert_action': {7}, 'dead_end_discovery': False, 'target_discovery': True, 'new_dead_ends': set()}\n",
      "{'visited_nodes': 6, 'steps_taken': 6, 'distance_to_target': 2, 'expert_action': {8}, 'dead_end_discovery': True, 'target_discovery': False, 'new_dead_ends': {3}}\n"
     ]
    },
    {
     "name": "stderr",
     "output_type": "stream",
     "text": [
      "IMAGEIO FFMPEG_WRITER WARNING: input image is not divisible by macro_block_size=16, resizing from (1000, 1000) to (1008, 1008) to ensure video compatibility with most codecs and players. To prevent resizing, make your input image divisible by the macro_block_size or set the macro_block_size to 1 (risking incompatibility).\n"
     ]
    },
    {
     "name": "stdout",
     "output_type": "stream",
     "text": [
      "{'visited_nodes': 7, 'steps_taken': 7, 'distance_to_target': 1, 'expert_action': {3}, 'dead_end_discovery': False, 'target_discovery': False, 'new_dead_ends': set()}\n",
      "{'visited_nodes': 8, 'steps_taken': 8, 'distance_to_target': 0, 'expert_action': {8}, 'dead_end_discovery': False, 'target_discovery': False, 'new_dead_ends': set()}\n"
     ]
    }
   ],
   "source": [
    "seed = 4\n",
    "\n",
    "frames = []  \n",
    "agent.reset()\n",
    "obs, info = env.reset(seed=1)\n",
    "frames.append(env.render())\n",
    "# Image.fromarray(frames[-1]).save(\"test.png\")\n",
    "print(info)\n",
    "\n",
    "i = 0\n",
    "done = False\n",
    "while not done:\n",
    "    action = agent.act(obs)\n",
    "    obs, reward, term, trun, info = env.step(action)\n",
    "    done = term or trun\n",
    "    frames.append(env.render())\n",
    "    # Image.fromarray(frames[-1]).save(\"test.png\")\n",
    "    print(info)\n",
    "\n",
    "filename = \"trajectory.mp4\"\n",
    "imageio.mimsave(filename, frames)"
   ]
  },
  {
   "cell_type": "code",
   "execution_count": null,
   "id": "4a7b66c5",
   "metadata": {},
   "outputs": [],
   "source": []
  },
  {
   "cell_type": "code",
   "execution_count": null,
   "id": "b60d5f4a",
   "metadata": {},
   "outputs": [],
   "source": []
  }
 ],
 "metadata": {
  "kernelspec": {
   "display_name": "pogs",
   "language": "python",
   "name": "python3"
  },
  "language_info": {
   "codemirror_mode": {
    "name": "ipython",
    "version": 3
   },
   "file_extension": ".py",
   "mimetype": "text/x-python",
   "name": "python",
   "nbconvert_exporter": "python",
   "pygments_lexer": "ipython3",
   "version": "3.10.16"
  }
 },
 "nbformat": 4,
 "nbformat_minor": 5
}
