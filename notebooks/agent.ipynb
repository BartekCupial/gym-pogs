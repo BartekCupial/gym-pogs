{
 "cells": [
  {
   "cell_type": "code",
   "execution_count": 5,
   "id": "fe681721",
   "metadata": {},
   "outputs": [],
   "source": [
    "import gymnasium as gym\n",
    "import gym_pogs\n",
    "import imageio\n",
    "\n",
    "from gym_pogs.agents import MemorySymbolicPOGSAgent"
   ]
  },
  {
   "cell_type": "code",
   "execution_count": null,
   "id": "52b19cc3",
   "metadata": {},
   "outputs": [],
   "source": [
    "k_nearest = 2\n",
    "env = gym.make(\"HardPOGS-v0\", num_nodes=20, k_nearest=k_nearest, max_steps=30, render_mode=\"rgb_array\")\n",
    "agent = MemorySymbolicPOGSAgent(k_nearest=k_nearest)\n",
    "obs, info = env.reset(seed=29)\n",
    "agent.reset()"
   ]
  },
  {
   "cell_type": "code",
   "execution_count": null,
   "id": "a6442193",
   "metadata": {},
   "outputs": [
    {
     "name": "stderr",
     "output_type": "stream",
     "text": [
      "IMAGEIO FFMPEG_WRITER WARNING: input image is not divisible by macro_block_size=16, resizing from (1000, 1000) to (1008, 1008) to ensure video compatibility with most codecs and players. To prevent resizing, make your input image divisible by the macro_block_size or set the macro_block_size to 1 (risking incompatibility).\n"
     ]
    },
    {
     "name": "stdout",
     "output_type": "stream",
     "text": [
      "Total Reward = 100.0, Steps = 16\n"
     ]
    }
   ],
   "source": [
    "frames = []  \n",
    "frames.append(env.render())\n",
    "done = False\n",
    "total_reward = 0\n",
    "\n",
    "while not done:\n",
    "    action = agent.act(obs)\n",
    "    obs, reward, term, trun, info = env.step(action)\n",
    "    done = term or trun\n",
    "    frames.append(env.render())\n",
    "    total_reward += reward\n",
    "    \n",
    "print(f\"Total Reward = {total_reward}, Steps = {info['steps_taken']}\")\n",
    "\n",
    "filename = \"trajectory.mp4\"\n",
    "imageio.mimsave(filename, frames)"
   ]
  },
  {
   "cell_type": "code",
   "execution_count": 8,
   "id": "434ef2d4",
   "metadata": {},
   "outputs": [
    {
     "data": {
      "text/plain": [
       "3"
      ]
     },
     "execution_count": 8,
     "metadata": {},
     "output_type": "execute_result"
    }
   ],
   "source": [
    "agent.backtrack_count"
   ]
  },
  {
   "cell_type": "code",
   "execution_count": null,
   "id": "9cb84a4f",
   "metadata": {},
   "outputs": [],
   "source": []
  }
 ],
 "metadata": {
  "kernelspec": {
   "display_name": "pogs",
   "language": "python",
   "name": "python3"
  },
  "language_info": {
   "codemirror_mode": {
    "name": "ipython",
    "version": 3
   },
   "file_extension": ".py",
   "mimetype": "text/x-python",
   "name": "python",
   "nbconvert_exporter": "python",
   "pygments_lexer": "ipython3",
   "version": "3.10.16"
  }
 },
 "nbformat": 4,
 "nbformat_minor": 5
}
