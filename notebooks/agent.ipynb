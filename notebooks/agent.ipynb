{
 "cells": [
  {
   "cell_type": "code",
   "execution_count": 1,
   "id": "fe681721",
   "metadata": {},
   "outputs": [],
   "source": [
    "import gym\n",
    "import gym_pogs\n",
    "import imageio\n",
    "\n",
    "from gym_pogs.agents import MemorySymbolicPOGSAgent\n",
    "from gym_pogs.envs.hard_pogs import HardPOGS"
   ]
  },
  {
   "cell_type": "code",
   "execution_count": 2,
   "id": "52b19cc3",
   "metadata": {},
   "outputs": [],
   "source": [
    "env = gym.make(\"MinDistancePOGS-v0\", num_nodes=20, k_nearest=3, min_distance=4)\n",
    "env = HardPOGS(env, min_backtracks=2)\n",
    "agent = MemorySymbolicPOGSAgent(k_nearest=3)"
   ]
  },
  {
   "cell_type": "code",
   "execution_count": 3,
   "id": "a6442193",
   "metadata": {},
   "outputs": [
    {
     "name": "stderr",
     "output_type": "stream",
     "text": [
      "/home/bartek/miniconda3/envs/pogs/lib/python3.10/site-packages/gym/utils/passive_env_checker.py:174: UserWarning: \u001b[33mWARN: Future gym versions will require that `Env.reset` can be passed a `seed` instead of using `Env.seed` for resetting the environment random number generator.\u001b[0m\n",
      "  logger.warn(\n",
      "/home/bartek/miniconda3/envs/pogs/lib/python3.10/site-packages/gym/utils/passive_env_checker.py:187: UserWarning: \u001b[33mWARN: Future gym versions will require that `Env.reset` can be passed `options` to allow the environment initialisation to be passed additional information.\u001b[0m\n",
      "  logger.warn(\n",
      "/home/bartek/miniconda3/envs/pogs/lib/python3.10/site-packages/gym/utils/passive_env_checker.py:195: UserWarning: \u001b[33mWARN: The result returned by `env.reset()` was not a tuple of the form `(obs, info)`, where `obs` is a observation and `info` is a dictionary containing additional information. Actual type: `<class 'dict'>`\u001b[0m\n",
      "  logger.warn(\n",
      "/home/bartek/miniconda3/envs/pogs/lib/python3.10/site-packages/gym/utils/passive_env_checker.py:219: DeprecationWarning: \u001b[33mWARN: Core environment is written in old step API which returns one bool instead of two. It is recommended to rewrite the environment with new step API. \u001b[0m\n",
      "  logger.deprecation(\n",
      "/home/bartek/miniconda3/envs/pogs/lib/python3.10/site-packages/gym/utils/passive_env_checker.py:225: DeprecationWarning: `np.bool8` is a deprecated alias for `np.bool_`.  (Deprecated NumPy 1.24)\n",
      "  if not isinstance(done, (bool, np.bool8)):\n",
      "/home/bartek/miniconda3/envs/pogs/lib/python3.10/site-packages/gym/utils/passive_env_checker.py:146: UserWarning: \u001b[33mWARN: The obs returned by the `step()` method was expecting a numpy array, actual type: <class 'set'>\u001b[0m\n",
      "  logger.warn(f\"{pre} was expecting a numpy array, actual type: {type(obs)}\")\n",
      "/home/bartek/miniconda3/envs/pogs/lib/python3.10/site-packages/gym/utils/passive_env_checker.py:165: UserWarning: \u001b[33mWARN: The obs returned by the `step()` method is not within the observation space.\u001b[0m\n",
      "  logger.warn(f\"{pre} is not within the observation space.\")\n",
      "IMAGEIO FFMPEG_WRITER WARNING: input image is not divisible by macro_block_size=16, resizing from (1000, 1000) to (1008, 1008) to ensure video compatibility with most codecs and players. To prevent resizing, make your input image divisible by the macro_block_size or set the macro_block_size to 1 (risking incompatibility).\n"
     ]
    },
    {
     "name": "stdout",
     "output_type": "stream",
     "text": [
      "Total Reward = 100.0, Steps = 14\n"
     ]
    }
   ],
   "source": [
    "frames = []  \n",
    "\n",
    "env.seed(2)\n",
    "obs = env.reset()\n",
    "frames.append(env.render())\n",
    "agent.reset()\n",
    "done = False\n",
    "total_reward = 0\n",
    "\n",
    "while not done:\n",
    "    action = agent.act(obs)\n",
    "    obs, reward, done, info = env.step(action)\n",
    "    frames.append(env.render())\n",
    "    total_reward += reward\n",
    "    \n",
    "print(f\"Total Reward = {total_reward}, Steps = {info['steps_taken']}\")\n",
    "\n",
    "filename = \"trajectory.mp4\"\n",
    "imageio.mimsave(filename, frames)"
   ]
  },
  {
   "cell_type": "code",
   "execution_count": 4,
   "id": "434ef2d4",
   "metadata": {},
   "outputs": [
    {
     "data": {
      "text/plain": [
       "2"
      ]
     },
     "execution_count": 4,
     "metadata": {},
     "output_type": "execute_result"
    }
   ],
   "source": [
    "agent.backtrack_count"
   ]
  },
  {
   "cell_type": "code",
   "execution_count": null,
   "id": "9cb84a4f",
   "metadata": {},
   "outputs": [],
   "source": []
  }
 ],
 "metadata": {
  "kernelspec": {
   "display_name": "pogs",
   "language": "python",
   "name": "python3"
  },
  "language_info": {
   "codemirror_mode": {
    "name": "ipython",
    "version": 3
   },
   "file_extension": ".py",
   "mimetype": "text/x-python",
   "name": "python",
   "nbconvert_exporter": "python",
   "pygments_lexer": "ipython3",
   "version": "3.10.16"
  }
 },
 "nbformat": 4,
 "nbformat_minor": 5
}
